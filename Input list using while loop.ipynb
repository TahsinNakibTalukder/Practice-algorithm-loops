{
 "cells": [
  {
   "cell_type": "markdown",
   "metadata": {},
   "source": [
    "# Create an input list using while loop"
   ]
  },
  {
   "cell_type": "code",
   "execution_count": null,
   "metadata": {},
   "outputs": [],
   "source": []
  },
  {
   "cell_type": "code",
   "execution_count": 8,
   "metadata": {},
   "outputs": [
    {
     "name": "stdout",
     "output_type": "stream",
     "text": [
      "Input your favourite food or fruits\n",
      "Hit q  quit\n"
     ]
    },
    {
     "name": "stdin",
     "output_type": "stream",
     "text": [
      " kisu\n",
      " akta\n",
      " hoibo\n",
      " q\n"
     ]
    },
    {
     "name": "stdout",
     "output_type": "stream",
     "text": [
      "you said: kisu\n",
      "you said: akta\n",
      "you said: hoibo\n"
     ]
    }
   ],
   "source": [
    "print(\"Input your favourite food or fruits\")\n",
    "print(\"Hit q  quit\")\n",
    "\n",
    "favs=[]\n",
    "\n",
    "while True:\n",
    "    data = input()\n",
    "    if str.lower(data) == 'q':\n",
    "        break\n",
    "    favs.append(data)\n",
    "    \n",
    "for food in favs:\n",
    "    print('you said:' , food)\n",
    "    "
   ]
  },
  {
   "cell_type": "code",
   "execution_count": 9,
   "metadata": {},
   "outputs": [
    {
     "name": "stdout",
     "output_type": "stream",
     "text": [
      "['kisu', 'akta', 'hoibo']\n"
     ]
    }
   ],
   "source": [
    "print(favs)"
   ]
  },
  {
   "cell_type": "code",
   "execution_count": null,
   "metadata": {},
   "outputs": [],
   "source": []
  }
 ],
 "metadata": {
  "kernelspec": {
   "display_name": "Python 3",
   "language": "python",
   "name": "python3"
  },
  "language_info": {
   "codemirror_mode": {
    "name": "ipython",
    "version": 3
   },
   "file_extension": ".py",
   "mimetype": "text/x-python",
   "name": "python",
   "nbconvert_exporter": "python",
   "pygments_lexer": "ipython3",
   "version": "3.8.5"
  }
 },
 "nbformat": 4,
 "nbformat_minor": 4
}
